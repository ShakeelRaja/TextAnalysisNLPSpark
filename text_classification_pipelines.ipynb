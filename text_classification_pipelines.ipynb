{
 "cells": [
  {
   "cell_type": "markdown",
   "metadata": {
    "collapsed": false,
    "deletable": true,
    "editable": true
   },
   "source": [
  
    "## Spark Pipelines and Evaluation of Scaling of Algorithms\n",
    "\n",
    "### by Shakeel Raja, thanks to my buddy Nalan\n"
   ]
  },
  {
   "cell_type": "markdown",
   "metadata": {
    "deletable": true,
    "editable": true
   },
   "source": [
 
    "## Task A - DATASET (20 NEWSGROUP)\n",
    "\n",
    "The dataset selected for this experiment is “20 Newsgroup Dataset” [1], which was originally created by Ken Lang for development of “NewsWeeder”, a system for learning user profiles based on their news article ratings [2]. The dataset is compiled from 20 different newsgroups, containing approximately one thousand documents for each newsgroup. This results as an offering of a total of  roughly 20,000 text documents from a variety of domains. The dataset is balanced having similar number of document offerings for each domain (i.e. approx. 1000). Some of these domains are very similar to each other i.e. “comp.sys.ibm.pc.hardware” and “comp.sys.mac.hardware’, while some domains are highly unrelated e.g. “sci.electronics” and “talk.religion.misc”. The variety, size, shape and presence of a ground truth makes  “20 Newsgroup Dataset”  an ideal candidate for practicing supervised multiclass text classification and other similar tasks within the big data domain.  Following table shows including newsgroups domains, grouped according to topic similarity  \n",
    "![Dataset Description](https://iscientiaqueueqa.blob.core.windows.net/samplecontainer/Capture.PNG)\n",
    "\n",
    "### DATA CLEANING\n",
    "\n",
    "Documents available in the newsgroup dataset carry headers with text information that may not be suitable or useful for analytical experimentation. Part of headers contained information generated as a part of communication protocols (i.e. IP addresses, email addresses, document locations etc. ) which would not have provided any insight into the real content of the document. The topic of document was also present within the header as text information in most cases, as shown the example below. This would have led to an artificially high accuracy rate. \n",
    "It was hence decided to remove this information from the documents prior to carrying out any further pre-processing and analysis tasks. This was achieved by iterating through all the documents in the corpus, identifying the location where the header terminates and removing the part of document upto that point. The resulting data frames were then subjected to further experiment. \n",
    "\n",
    "#### An example Header \n",
    "\n",
    ">Xref: cantaloupe.srv.cs.cmu.edu alt.atheism:49960 alt.atheism.moderated:713 news.answers:7054 alt.answers:126\n",
    "Path: cantaloupe.srv.cs.cmu.edu!crabapple.srv.cs.cmu.edu!bb3.andrew.cmu.edu!news.sei.cmu.edu!cis.ohio-state.edu!magnus.acs.ohio-state.edu!usenet.ins.cwru.edu!agate!spool.mu.edu!uunet!pipex!ibmpcug!mantis!mathew\n",
    "From: mathew <mathew@mantis.co.uk>\n",
    "Newsgroups: alt.atheism,alt.atheism.moderated,news.answers,alt.answers\n",
    "Subject: Alt.Atheism FAQ: Atheist Resources\n",
    "Summary: Books, addresses, music -- anything related to atheism\n",
    "Keywords: FAQ, atheism, books, music, fiction, addresses, contacts\n",
    "Message-ID: <19930329115719@mantis.co.uk>\n",
    "Date: Mon, 29 Mar 1993 11:57:19 GMT\n",
    "Expires: Thu, 29 Apr 1993 11:57:19 GMT\n",
    "Followup-To: alt.atheism\n",
    "Distribution: world\n",
    "Organization: Mantis Consultants, Cambridge. UK.\n",
    "Approved: news-answers-request@mit.edu\n",
    "Supersedes: <19930301143317@mantis.co.uk>\n",
    "Lines: 290\n",
    "\n",
    "### TEXT CLASSIFICATION\n",
    "For this experiment, the selected dataset was subjected to text classification task. Text classification can be described predicting a topic for given text document as below:\n",
    "\n",
    "\n",
    "### INPUT : \n",
    "#### A document ‘d’\n",
    "#### A  predefined set of ‘j’ classes  C = {c1,c2,…,cj}\n",
    "\n",
    "### OUTPUT: \n",
    "####  A predicted class c ∈ C\n",
    "\n",
    "Text classification was chosen as an experiment of choice because it provides conceptual views of text corpuses and has various applications in the real world. E.g. organizing news stories by topic or location, research publications are classified by domains and subdomains, health-care systems often index patient reports from multiple views, taxonomies of disease classification and medical procedures, client document management for businesses and spam filtering etc. \n",
    "\n",
    "### BACKGROUND\n",
    "Traditional AI based computing approach to automatic text classification involved manually defining a set of orthography rules [3] for entity recognition from given text but this proved to be time-consuming and expensive. For example, To label a sequence of tokens in the format \n",
    "“Mr. X”, where ‘X’ is a capitalized word representing the ‘Person’ entity, an expert may define following rule for identify the person: \n",
    "\n",
    "#### (token = “Mr.” orthography type = FirstCap) -> Person’s Name \n",
    "\n",
    "\n",
    "Here, the regular expression on the left side of rule identifies a given sequence of two tokens, where the first token “Mr.” is followed by orthography type “FirstCap” and the decision on right identifies the token as a person’s name.  Manually creating such rules for classification oriented entity recognition may achieve high accuracy with carefully refined rules but requires human expertise and is highly labour intensive [4].\n",
    "\n",
    "### STATISTICAL MACHINE LEARNING: \n",
    "\n",
    "Statistical tasks treat categorization problems as “ Sequence Labelling Problems”. For a given sequence of observations in the text document, expressed as x = (x1,x2, … , xn), each observation is represented using a feature vector. The task requires assignment of a class label ci to each observation xi, considering that ci depends not only on xi but also on other observations and other labels within that sequence. To achieve this goal, each word in a sentence is treated as an observation. \n",
    "A text classification problem requires the presence of a corpus with annotated document-label relations as positive training examples. Statistical machine learning algorithms are then used for training classifiers i.e. logistic regression, Naive Bayes etc. [4]."
   ]
  },
  {
   "cell_type": "markdown",
   "metadata": {
    "deletable": true,
    "editable": true
   },
   "source": [
    "## Task B - Machine Learning with Pipelines in Spark \n",
    "\n",
    "Apache Spark offers Pipelines to facilitate the creation, tuning, and testing of practical machine learning algorithm along with deployment. Pipelines offer functionality to define and monitor the entire data extraction, transformation, and algorithm training workflow. The data cleaning step (header removal) was performed at the dataset and resulting documents were labelled according to the topic name. Finally, a single dataframe with document text as rows and topic labels was generated for further experimentation. These steps and the resulting output has been shown in the code below:"
   ]
  },
  {
   "cell_type": "code",
   "execution_count": 2,
   "metadata": {
    "collapsed": false,
    "deletable": true,
    "editable": true
   },
   "outputs": [
    {
     "name": "stdout",
     "output_type": "stream",
     "text": [
      "\tTopic Name \t\t  No of Items\n",
      "comp.sys.mac.hardware\t\t\t\t1000\n",
      "talk.politics.guns\t\t\t\t998\n",
      "rec.sport.hockey\t\t\t\t1000\n",
      "alt.atheism\t\t\t\t1000\n",
      "misc.forsale\t\t\t\t1000\n",
      "sci.space\t\t\t\t1000\n",
      "comp.sys.ibm.pc.hardware\t\t\t\t1000\n",
      "rec.autos\t\t\t\t1000\n",
      "sci.med\t\t\t\t999\n",
      "rec.sport.baseball\t\t\t\t1000\n",
      "soc.religion.christian\t\t\t\t997\n",
      "rec.motorcycles\t\t\t\t1000\n",
      "sci.crypt\t\t\t\t1000\n",
      "talk.politics.mideast\t\t\t\t998\n",
      "comp.windows.x\t\t\t\t1000\n",
      "talk.politics.misc\t\t\t\t996\n",
      "sci.electronics\t\t\t\t1000\n",
      "talk.religion.misc\t\t\t\t998\n",
      "comp.graphics\t\t\t\t1000\n",
      "comp.os.ms-windows.misc\t\t\t\t1000\n"
     ]
    }
   ],
   "source": [
    "from pyspark.ml import *\n",
    "from pyspark.ml.classification import *\n",
    "from pyspark.ml.feature import *\n",
    "from pyspark.ml.param import *\n",
    "from pyspark.ml.tuning import *\n",
    "from pyspark.ml.evaluation import *\n",
    "import os\n",
    "import re\n",
    "from operator import add\n",
    "\n",
    "#get the list of folders in the main directory\n",
    "topicList = os.listdir(\"/data/tempstore/newsgroups/\")\n",
    "#remove the non folder in the list\n",
    "topicList.remove('.DS_Store');\n",
    "\n",
    "#create a small tempory list for speedup the experiments\n",
    "#topicList = ['soc.religion.christian', 'rec.sport.baseball','comp.graphics'];\n",
    "\n",
    "#define the prefix to load the data folders\n",
    "prefix = '/data/tempstore/newsgroups/'\n",
    "\n",
    "# remove the headers, get the sender and the main text\n",
    "def parseMessage(ft): \n",
    "    \n",
    "    fn,text = ft # unpack the filename and text content   \n",
    "    #As we understand two newlines together is the most common pattern to remove the headers.\n",
    "    #almost every file header ends with two new lines. regex expressions for python gave errors and we have used normal string \n",
    "    #calculations here\n",
    "    #fist split the text by newline.\n",
    "    lines = text.split(\"\\n\"); \n",
    "    \n",
    "    #then look for the first empty item. because when 2 newlines together 2nd line dosen't contain anything \n",
    "    index = lines.index(\"\")\n",
    "    #safe check. if there are no 2 newlines \n",
    "    if(index < len(lines)):\n",
    "        #if there are then get the sub list of strings from that index\n",
    "        cleanLines = lines[index:len(lines)];\n",
    "        #joins the strings list together to make a one string \n",
    "        newText = \" \".join(cleanLines);\n",
    "        #returns file name and string\n",
    "        return (fn,newText)\n",
    "    else:\n",
    "        #if there are no new lines returns complete text\n",
    "        return (fn,text)\n",
    "    \n",
    "\n",
    "# we need a SparkSession to create DataFrames\n",
    "spark = SparkSession.builder.getOrCreate()\n",
    "\n",
    "# Make a DataFrame with labels and n-Gram vectors \n",
    "def make_dataFrame(dirPath, argLabel): \n",
    "    #create rdd from the given file group (directory)\n",
    "    ft_RDD = sc.wholeTextFiles(dirPath) \n",
    "    #parse through the remove header function. this returns a list of (fn,text)\n",
    "    ft2_RDD = ft_RDD.map(parseMessage)  \n",
    "    #rearrange the list to (text,label)\n",
    "    fl_RDD = ft2_RDD.map(lambda ft: (ft[1], argLabel))\n",
    "    \n",
    "    #create a DataFrame with two coloumns.\n",
    "    rows_DF = spark.createDataFrame(fl_RDD,schema=['text','label']) \n",
    "    \n",
    "    return rows_DF\n",
    "\n",
    "#create empty variable. we use this variable to hold the complete dataset as a dataframe. \n",
    "#we assign it to null initially\n",
    "rows_DF = None;\n",
    "\n",
    "#use the number to assign labels 0 - 19\n",
    "number = 0;\n",
    "#create a list to save the list of labels for generate charts\n",
    "labelsAndCounts = [];\n",
    "\n",
    "print(\"\\tTopic Name \\t\\t  No of Items\");\n",
    "\n",
    "for topic in topicList:\n",
    "    #make a dataframe for given topic and save it in a tempory variable\n",
    "    rows_temp_DF = make_dataFrame(prefix+topic, number)\n",
    "    \n",
    "    #get the count of files in the news category\n",
    "    count = rows_temp_DF.count()\n",
    " \n",
    "    labelsAndCounts.append((topic,count));\n",
    "    #just for printing purposes\n",
    "    print(\"{0}\\t\\t\\t\\t{1}\".format(topic,count))\n",
    "        \n",
    "    number = number + 1;\n",
    "    #main dataframe is not null except in the first case. we merge the tempory df to main df\n",
    "    if(rows_DF is not None):\n",
    "        rows_DF = rows_DF.union(rows_temp_DF)\n",
    "    else:\n",
    "        #first case main dataframe is null and just assgin tempory df to main df\n",
    "        rows_DF = rows_temp_DF;\n",
    "\n",
    "#create a view called newsgroups in the dataframe\n",
    "rows_DF.createOrReplaceTempView(\"newsgroups\")\n"
   ]
  },
  {
   "cell_type": "markdown",
   "metadata": {
    "deletable": true,
    "editable": true
   },
   "source": [
    "For text classification, The end to end document classification pipeline was implemented in spark with Apache’s machine learning library, Mllib.  Creating the pipeline involved declaration of all the required stages, configuring their parameters and chaining them in a pipeline object. After the removal of noisy data as described earlier, the documents were randomly split into testing and training sets and loaded into data-frames. This allowed us to define and create a Pipeline object for text classification with stages as defined below:\n",
    "\n",
    "### Feature Transformers\n",
    "\n",
    "\n",
    "\n",
    "#### Tokenizer\n",
    "The ml tokenizer was used to convert text into words (terms) for creating vectors in later stages. \n",
    "\n",
    "#### Stop word removal\n",
    "Stop word removal stage removes such words (terms) from the document that appear often with equal probability in each document and hence do not help with classification tasks. The “StopWordRemover” transformer from machine learning library was supplied with a list of commonly occurring stopwords as an extra parameter, taken from John Bresnik’s Github repository [6]. \n",
    "\n",
    "#### Hashing TF\n",
    "Feature hashing, also known as the hashing trick, similar to the kernel trick, is a fast yet efficient way of vectorizing features. A raw feature is mapped into an index (term) by applying a hash function. Hashing  turns arbitrary features into indices in a vector or matrix by applying a hash function to the features and using their hash values as indices directly,instead of looking the indices up in an associative array.The hashingTF function in Spark Machine learning library was used for calculating hash vectors.  \n",
    "\n",
    "Following code contains transformer definitions for Spark pipeline."
   ]
  },
  {
   "cell_type": "code",
   "execution_count": 3,
   "metadata": {
    "collapsed": false,
    "deletable": true,
    "editable": true
   },
   "outputs": [],
   "source": [
    "from pyspark.ml import Pipeline\n",
    "from pyspark.ml.classification import NaiveBayes\n",
    "from pyspark.ml.feature import HashingTF, Tokenizer, IDF\n",
    "from pyspark.ml.tuning import  ParamGridBuilder\n",
    "from pyspark.ml.evaluation import MulticlassClassificationEvaluator\n",
    "\n",
    "rows_DF.persist()\n",
    "\n",
    "#create small dataframe from getting subset from first two groups for testing purposes\n",
    "test_small_DF = rows_DF.sampleBy( 'label', fractions={0:0.1,1:0.1}, seed=0 )\n",
    "\n",
    "#format and count of the test dataset\n",
    "#test_small_DF.groupBy('label').count().orderBy('label').show()\n",
    "\n",
    "#define the list of stopwords\n",
    "STOP_WORDS = [\n",
    "    'a','cannot','into','our','thus','about','co','is','ours','to','above',\n",
    "    'could','it','ourselves','together','across','down','its','out','too',\n",
    "    'after','during','itself','over','toward','afterwards','each','last','own',\n",
    "    'towards','again','eg','latter','per','under','against','either','latterly',\n",
    "    'perhaps','until','all','else','least','rather','up','almost','elsewhere',\n",
    "    'less','same','upon','alone','enough','ltd','seem','us','along','etc',\n",
    "    'many','seemed','very','already','even','may','seeming','via','also','ever',\n",
    "    'me','seems','was','although','every','meanwhile','several','we','always',\n",
    "    'everyone','might','she','well','among','everything','more','should','were',\n",
    "    'amongst','everywhere','moreover','since','what','an','except','most','so',\n",
    "    'whatever','and','few','mostly','some','when','another','first','much',\n",
    "    'somehow','whence','any','for','must','someone','whenever','anyhow',\n",
    "    'former','my','something','where','anyone','formerly','myself','sometime',\n",
    "    'whereafter','anything','from','namely','sometimes','whereas','anywhere',\n",
    "    'further','neither','somewhere','whereby','are','had','never','still',\n",
    "    'wherein','around','has','nevertheless','such','whereupon','as','have',\n",
    "    'next','than','wherever','at','he','no','that','whether','be','hence',\n",
    "    'nobody','the','whither','became','her','none','their','which','because',\n",
    "    'here','noone','them','while','become','hereafter','nor','themselves','who',\n",
    "    'becomes','hereby','not','then','whoever','becoming','herein','nothing',\n",
    "    'thence','whole','been','hereupon','now','there','whom','before','hers',\n",
    "    'nowhere','thereafter','whose','beforehand','herself','of','thereby','why',\n",
    "    'behind','him','off','therefore','will','being','himself','often','therein',\n",
    "    'with','below','his','on','thereupon','within','beside','how','once',\n",
    "    'these','without','besides','however','one','they','would','between','i',\n",
    "    'only','this','yet','beyond','ie','onto','those','you','both','if','or',\n",
    "    'though','your','but','in','other','through','yours','by','inc','others',\n",
    "    'throughout','yourself','can','indeed','otherwise','thru','yourselves',' ','',\"i'm\",\"I'm\"\n",
    "    ]\n",
    "\n",
    "\n",
    "#define the tokenizer transformer to split the text into words\n",
    "tokenizer = Tokenizer(inputCol=\"text\", outputCol=\"words\")\n",
    "#stop word remove transformer with list of stirngs to remove the stop words. we have used custom list of strings since we use\n",
    "#this to remove empty strings too\n",
    "remover = StopWordsRemover(inputCol=\"words\", outputCol=\"wordsFiltered\",stopWords = STOP_WORDS)\n",
    "#hashing transformer to crete hash out of words\n",
    "hashingTF = HashingTF(inputCol=remover.getOutputCol(), outputCol=\"features\", numFeatures = 2000)"
   ]
  },
  {
   "cell_type": "markdown",
   "metadata": {
    "deletable": true,
    "editable": true
   },
   "source": [
    "### TEXT CLASSIFICATION WITH NAIVE BAYES\n",
    "\n",
    "Naive Bayes is one of the most efficient and effective inductive learning algorithms for machine learning and data mining[5]. Multinomial naive Bayes have been chosen as the supervised classification algorithm for the dataset described earlier. The naive Bayes classifier, based on simple (or naive) Bayes rule has long been a core technique in data mining and information retrieval tasks.  Applying Bayes rule to a document d and a class c forms equation\n",
    "\n",
    "#### P(c|d) = P(d|c)P(c) / P(d)\n",
    "\n",
    "The naive Bayes classifier combines this probability model model with the Maximum A Posteriori (MAP) decision rule to give a function that assigns a predicted label to a document as below:\n",
    "\n",
    "The classifier relies on a very simple representation of data called “ Bag of words” model which disregards grammar and even word order but keeps multiplicity. BoW representation involves creation of a vocabulary and a count of word frequency for each document. Bag of Words representation ignoring word order in a document is based upon the conditional independence property of naive Bayes classifier as mentioned in [5]. Further details of feature engineering including feature extraction, feature selection and supervised learning from the text corpus has been provided in the following section with brief descriptions and implementation in pySpark. \n",
    "\n",
    "![Naive Bayes Equation](https://iscientiaqueueqa.blob.core.windows.net/samplecontainer/naive_bayes_image.svg)\n",
    "\n",
    "#### Smoothing in Naive Bayes: \n",
    "\n",
    "With conditional independence assumption of naive Bayes, a classification task may provide a probability of zero to some observations i.e. a document containing words that do not appear in any other training documents.  The classifier will ignore the whole document because of a single rare word and give it zero probability due to point wise multiplication. The case where the count of some class is zero is just a particular case of overfitting. The reason for using a smoothing parameter with naive Bayes in is mainly to avoid such a scenario. \n",
    "\n",
    "#### Naive Bayes Classifier in Spark ML library\n",
    "Naive Bayes classifer from Spark ML library was defined as shown below with the smoothing parameter set to 1 as default value for testing the performance of resulting Pipeline. A multinomial variant of naive Bayes, as described above, was chosen to meet the requirements of multiclass text classification."
   ]
  },
  {
   "cell_type": "code",
   "execution_count": 4,
   "metadata": {
    "collapsed": false,
    "deletable": true,
    "editable": true
   },
   "outputs": [],
   "source": [
    "#define the naive bayes classifer as multinomial\n",
    "nb = NaiveBayes(smoothing=1.0, modelType=\"multinomial\")"
   ]
  },
  {
   "cell_type": "markdown",
   "metadata": {
    "deletable": true,
    "editable": true
   },
   "source": [
    "### Create and Test The Pipeline\n",
    "Using above pre-processed data above, the Pipeline stages were individually tested on a small set of documents to evaluate the performance of different stages. Sample output from each stage has been shown below to see the affect of these transformers."
   ]
  },
  {
   "cell_type": "code",
   "execution_count": 5,
   "metadata": {
    "collapsed": false,
    "deletable": true,
    "editable": true
   },
   "outputs": [
    {
     "name": "stdout",
     "output_type": "stream",
     "text": [
      "input to the tokenizer \n",
      "\n",
      " In article <1993Apr22.055150.28215@nmt.edu>, changw@nmt.edu (willie* chang) writes: |> It happened to my classic ii once.  At startup, after the usual powerup |> tone, there were chimes (kinda like do(1st)-mi(1st)-sol(1st)-do(2nd) or |> 1st C - 1st E - 1st G - 2nd C on the music scale), and it hanged before |> giving the happy mac.  I had to re-powerup. |>  |> This was asked before but I can't remember the answer.  I've tried to |> find the answer from the faqs and other ftp sites but to no avail. |>  |> Can anyone tell me what those unusual chimes mean?  A spurious memory |> check error? |>  |> Thanks |> willie*  Those chimes indicate a hardware failure of some type during System startup.  One thing that can cause the chimes is a cable that has become a bit loose. Next time you power down the computer, check that all cables are on tight. \n"
     ]
    }
   ],
   "source": [
    "# Configure an ML pipeline, which consists of four stages: tokenizer, StopWordsRemover, hashingTF, and naive bayes.\n",
    "#we have used only naive bayes since this is one of the best algorithem to mulivariate text classification\n",
    "#create the piple line with all our transformers and naive bayes estimator.\n",
    "pipeline = Pipeline(stages=[tokenizer,remover, hashingTF, nb])\n",
    "\n",
    "#define the multinomial classifiaction since our perdiction has 20 classes\n",
    "evaluator = MulticlassClassificationEvaluator(labelCol=\"label\", predictionCol=\"prediction\",\n",
    "                                              metricName=\"accuracy\")\n",
    "\n",
    "\n",
    "#Test of pipeline \n",
    "#tokenizer is a transformer and check the tokenizer functionality\n",
    "print(\"input to the tokenizer \\n\")\n",
    "print(test_small_DF.take(1)[0][0]);"
   ]
  },
  {
   "cell_type": "markdown",
   "metadata": {
    "deletable": true,
    "editable": true
   },
   "source": [
    "#### TOKENIZER TEST"
   ]
  },
  {
   "cell_type": "code",
   "execution_count": 6,
   "metadata": {
    "collapsed": false,
    "deletable": true,
    "editable": true
   },
   "outputs": [
    {
     "name": "stdout",
     "output_type": "stream",
     "text": [
      "output from the tokenizer and input to the stopword remover \n",
      "\n",
      "['', 'in', 'article', '<1993apr22.055150.28215@nmt.edu>,', 'changw@nmt.edu', '(willie*', 'chang)', 'writes:', '|>', 'it', 'happened', 'to', 'my', 'classic', 'ii', 'once.', '', 'at', 'startup,', 'after', 'the', 'usual', 'powerup', '|>', 'tone,', 'there', 'were', 'chimes', '(kinda', 'like', 'do(1st)-mi(1st)-sol(1st)-do(2nd)', 'or', '|>', '1st', 'c', '-', '1st', 'e', '-', '1st', 'g', '-', '2nd', 'c', 'on', 'the', 'music', 'scale),', 'and', 'it', 'hanged', 'before', '|>', 'giving', 'the', 'happy', 'mac.', '', 'i', 'had', 'to', 're-powerup.', '|>', '', '|>', 'this', 'was', 'asked', 'before', 'but', 'i', \"can't\", 'remember', 'the', 'answer.', '', \"i've\", 'tried', 'to', '|>', 'find', 'the', 'answer', 'from', 'the', 'faqs', 'and', 'other', 'ftp', 'sites', 'but', 'to', 'no', 'avail.', '|>', '', '|>', 'can', 'anyone', 'tell', 'me', 'what', 'those', 'unusual', 'chimes', 'mean?', '', 'a', 'spurious', 'memory', '|>', 'check', 'error?', '|>', '', '|>', 'thanks', '|>', 'willie*', '', 'those', 'chimes', 'indicate', 'a', 'hardware', 'failure', 'of', 'some', 'type', 'during', 'system', 'startup.', '', 'one', 'thing', 'that', 'can', 'cause', 'the', 'chimes', 'is', 'a', 'cable', 'that', 'has', 'become', 'a', 'bit', 'loose.', 'next', 'time', 'you', 'power', 'down', 'the', 'computer,', 'check', 'that', 'all', 'cables', 'are', 'on', 'tight.']\n"
     ]
    }
   ],
   "source": [
    "#apply transform on tokenizer\n",
    "results = tokenizer.transform(test_small_DF);\n",
    "#check the input to the tokenizer and output from the tokenizer\n",
    "print(\"output from the tokenizer and input to the stopword remover \\n\")\n",
    "print(results.take(1)[0][2]);"
   ]
  },
  {
   "cell_type": "markdown",
   "metadata": {
    "deletable": true,
    "editable": true
   },
   "source": [
    "#### STOP-WORD REMOVAL TEST"
   ]
  },
  {
   "cell_type": "code",
   "execution_count": 7,
   "metadata": {
    "collapsed": false,
    "deletable": true,
    "editable": true
   },
   "outputs": [
    {
     "name": "stdout",
     "output_type": "stream",
     "text": [
      "Number of words comes from the tokenizer: 163\n",
      "Number of words comes from the remover: 90 \n",
      "\n",
      "output from the  stop word remover  and input to the hashing tf \n",
      "\n",
      "['article', '<1993apr22.055150.28215@nmt.edu>,', 'changw@nmt.edu', '(willie*', 'chang)', 'writes:', '|>', 'happened', 'classic', 'ii', 'once.', 'startup,', 'usual', 'powerup', '|>', 'tone,', 'chimes', '(kinda', 'like', 'do(1st)-mi(1st)-sol(1st)-do(2nd)', '|>', '1st', 'c', '-', '1st', 'e', '-', '1st', 'g', '-', '2nd', 'c', 'music', 'scale),', 'hanged', '|>', 'giving', 'happy', 'mac.', 're-powerup.', '|>', '|>', 'asked', \"can't\", 'remember', 'answer.', \"i've\", 'tried', '|>', 'find', 'answer', 'faqs', 'ftp', 'sites', 'avail.', '|>', '|>', 'tell', 'unusual', 'chimes', 'mean?', 'spurious', 'memory', '|>', 'check', 'error?', '|>', '|>', 'thanks', '|>', 'willie*', 'chimes', 'indicate', 'hardware', 'failure', 'type', 'system', 'startup.', 'thing', 'cause', 'chimes', 'cable', 'bit', 'loose.', 'time', 'power', 'computer,', 'check', 'cables', 'tight.']\n"
     ]
    }
   ],
   "source": [
    "#compare the output word count from tokenizer and output put word count from stop word remover to check the functionality of \n",
    "#stop word remover\n",
    "print(\"Number of words comes from the tokenizer: {}\".format(len(results.take(1)[0][2])));\n",
    "\n",
    "resultsFiltered = remover.transform(results);\n",
    "\n",
    "print(\"Number of words comes from the remover: {} \\n\".format(len(resultsFiltered.take(1)[0][3])));\n",
    "print(\"output from the  stop word remover  and input to the hashing tf \\n\")\n",
    "print(resultsFiltered.take(1)[0][3]);\n"
   ]
  },
  {
   "cell_type": "markdown",
   "metadata": {
    "deletable": true,
    "editable": true
   },
   "source": [
    "#### HASHING-TF TEST"
   ]
  },
  {
   "cell_type": "code",
   "execution_count": 8,
   "metadata": {
    "collapsed": false,
    "deletable": true,
    "editable": true
   },
   "outputs": [
    {
     "name": "stdout",
     "output_type": "stream",
     "text": [
      "ouput comes from the hashing function \n",
      "\n",
      "(2000,[4,99,103,157,172,245,257,259,263,278,293,333,388,403,409,417,446,452,458,470,485,527,529,548,646,727,730,746,773,856,865,953,987,990,995,1029,1141,1194,1230,1231,1248,1304,1310,1330,1331,1402,1458,1468,1499,1510,1526,1564,1609,1614,1639,1670,1675,1680,1685,1722,1788,1825,1839,1850,1851,1877,1878,1882,1894],[1.0,1.0,1.0,1.0,1.0,1.0,1.0,1.0,3.0,1.0,1.0,1.0,1.0,1.0,1.0,1.0,1.0,1.0,1.0,1.0,1.0,13.0,1.0,1.0,1.0,1.0,1.0,1.0,1.0,1.0,1.0,1.0,1.0,1.0,1.0,4.0,1.0,1.0,1.0,1.0,1.0,1.0,1.0,1.0,1.0,1.0,1.0,1.0,3.0,1.0,1.0,1.0,1.0,1.0,1.0,1.0,1.0,1.0,1.0,2.0,1.0,1.0,1.0,1.0,1.0,1.0,1.0,2.0,1.0])\n"
     ]
    }
   ],
   "source": [
    "#apply hasing transformer to the output from stop word remover and check the output \n",
    "resultsHashed = hashingTF.transform(resultsFiltered); \n",
    "print(\"ouput comes from the hashing function \\n\")\n",
    "print(resultsHashed.take(3)[0][4]);"
   ]
  },
  {
   "cell_type": "markdown",
   "metadata": {
    "deletable": true,
    "editable": true
   },
   "source": [
    "## Task C - Evaluating PipeLine Performance\n",
    "\n",
    "The performance of the pipeline was evaluated by projecting the pipeline to varying sets of training and test data and calculating test and training accuracy, as well as F1 measure based on precision and recall values. A multi-class evaluator from machine learning library was chosen to obtain the evaluation metrics for monitoring the  performance of the pipeline."
   ]
  },
  {
   "cell_type": "code",
   "execution_count": 9,
   "metadata": {
    "collapsed": false,
    "deletable": true,
    "editable": true
   },
   "outputs": [
    {
     "name": "stdout",
     "output_type": "stream",
     "text": [
      "Training Ratio : 1.0\n",
      "Training Accuracy : 0.8767605633802817\n",
      "Training Accuracy F1 : 0.8758672824082925\n",
      "Training Accuracy Weighted Recall: 0.8767605633802817\n",
      "Training Accuracy Weighted Precision: 0.8811608006037032\n",
      "Testing Accuracy : 0.4802200244471608\n",
      "Testing Accuracy F1 : 0.4807148805493953\n",
      "Testing Accuracy Weighted Recall: 0.4802200244471608\n",
      "Testing Accuracy Weighted Precision: 0.5044247815294027 \n",
      "\n",
      "Training Ratio : 5.0\n",
      "Training Accuracy : 0.7078741735123222\n",
      "Training Accuracy F1 : 0.7066322130023295\n",
      "Training Accuracy Weighted Recall: 0.7078741735123221\n",
      "Training Accuracy Weighted Precision: 0.7160803269875344\n",
      "Testing Accuracy : 0.590063974410236\n",
      "Testing Accuracy F1 : 0.5885326352719783\n",
      "Testing Accuracy Weighted Recall: 0.590063974410236\n",
      "Testing Accuracy Weighted Precision: 0.5997519227510981 \n",
      "\n",
      "Training Ratio : 9.0\n",
      "Training Accuracy : 0.6853060996707405\n",
      "Training Accuracy F1 : 0.6836732027754262\n",
      "Training Accuracy Weighted Recall: 0.6853060996707406\n",
      "Training Accuracy Weighted Precision: 0.6929190477369293\n",
      "Testing Accuracy : 0.594581519109821\n",
      "Testing Accuracy F1 : 0.5926003672306978\n",
      "Testing Accuracy Weighted Recall: 0.5945815191098208\n",
      "Testing Accuracy Weighted Precision: 0.6060916867251317 \n",
      "\n"
     ]
    }
   ],
   "source": [
    "#performance of the pipeline\n",
    "\n",
    "#create the list of ratios to devide the training and test data\n",
    "plain_trainRatios = [1.0,5.0,9.0];\n",
    "#create empty arrays to hold results. this will use to generate graphs\n",
    "plain_tr_accs = [];\n",
    "plain_tr_accs_wp = [];\n",
    "plain_tr_accs_wr = [];\n",
    "plain_tr_accs_f1 = [];\n",
    "plain_tst_accs = [];\n",
    "plain_tst_accs_wp = [];\n",
    "plain_tst_accs_wr = [];\n",
    "plain_tst_accs_f1 = [];\n",
    "\n",
    "for trainRatio in plain_trainRatios:\n",
    "    #create training and test datasets from our main dataset.\n",
    "    [training,testing] = rows_DF.randomSplit([trainRatio,10-trainRatio])\n",
    "    #cache the training and testing dataset to speed the access to datafarems\n",
    "    training.cache();\n",
    "    testing.cache();\n",
    "    print(\"Training Ratio : {0}\".format(trainRatio))\n",
    "    \n",
    "    #train the model using pipeline with training data\n",
    "    model = pipeline.fit(training)\n",
    "\n",
    "    #predict using training data on the trained model to get training accuracy\n",
    "    prediction = model.transform(training)\n",
    "\n",
    "    #here we have used weightedPrecision as the evaluation metric\n",
    "    trainAccuracy =  evaluator.evaluate(prediction)\n",
    "    trainAccuracy2 =  evaluator.evaluate(prediction, {evaluator.metricName: \"f1\"}) \n",
    "    trainAccuracy3 =  evaluator.evaluate(prediction, {evaluator.metricName: \"weightedRecall\"}) \n",
    "    trainAccuracy4 =  evaluator.evaluate(prediction, {evaluator.metricName: \"weightedPrecision\"}) \n",
    "    \n",
    "    #resutls adding to arrays\n",
    "    plain_tr_accs.append(trainAccuracy);\n",
    "    plain_tr_accs_f1.append(trainAccuracy2);\n",
    "    plain_tr_accs_wr.append(trainAccuracy3);\n",
    "    plain_tr_accs_wp.append(trainAccuracy4);\n",
    "    \n",
    "    print(\"Training Accuracy : {0}\".format(trainAccuracy))\n",
    "    print(\"Training Accuracy F1 : {0}\".format(trainAccuracy2))\n",
    "    print(\"Training Accuracy Weighted Recall: {0}\".format(trainAccuracy3))\n",
    "    print(\"Training Accuracy Weighted Precision: {0}\".format(trainAccuracy4))\n",
    "    \n",
    "    #predict using test data on the trained model to get test accuracy\n",
    "    prediction = model.transform(testing)\n",
    "\n",
    "    #here we have used weightedPrecision as the evaluation metric\n",
    "    testAccuracy =  evaluator.evaluate(prediction)\n",
    "    testAccuracy2 =  evaluator.evaluate(prediction, {evaluator.metricName: \"f1\"})\n",
    "    testAccuracy3 =  evaluator.evaluate(prediction, {evaluator.metricName: \"weightedRecall\"})\n",
    "    testAccuracy4 =  evaluator.evaluate(prediction, {evaluator.metricName: \"weightedPrecision\"})\n",
    "    \n",
    "    print(\"Testing Accuracy : {0}\".format(testAccuracy))\n",
    "    print(\"Testing Accuracy F1 : {0}\".format(testAccuracy2))\n",
    "    print(\"Testing Accuracy Weighted Recall: {0}\".format(testAccuracy3))\n",
    "    print(\"Testing Accuracy Weighted Precision: {0} \\n\".format(testAccuracy4))\n",
    "\n",
    "    #resutls adding to arrays\n",
    "    plain_tst_accs.append(testAccuracy);\n",
    "    plain_tst_accs_f1.append(testAccuracy2);\n",
    "    plain_tst_accs_wr.append(testAccuracy3);\n",
    "    plain_tst_accs_wp.append(testAccuracy4);\n"
   ]
  },
  {
   "cell_type": "code",
   "execution_count": 10,
   "metadata": {
    "collapsed": false,
    "deletable": true,
    "editable": true
   },
   "outputs": [
    {
     "data": {
      "image/png": "[encoded data removed]",
      "text/plain": [
       "<matplotlib.figure.Figure at 0x7f1e38f897f0>"
      ]
     },
     "metadata": {},
     "output_type": "display_data"
    }
   ],
   "source": [
    "import numpy as np\n",
    "import matplotlib.pyplot as plt\n",
    "\n",
    "#crete the figures using collected data \n",
    "plt.figure(figsize=(15,6))\n",
    "tr_acc, = plt.plot(plain_trainRatios,plain_tr_accs,label=\"Training Accuracy\");\n",
    "test_accuracy, = plt.plot(plain_trainRatios,plain_tst_accs,label=\"Test Accuracy\");\n",
    "plt.legend(handles=[tr_acc, test_accuracy])\n",
    "plt.ylabel('Accuracy')\n",
    "plt.xlabel('Training Set Ratio')\n",
    "plt.show()"
   ]
  },
  {
   "cell_type": "code",
   "execution_count": 11,
   "metadata": {
    "collapsed": false,
    "deletable": true,
    "editable": true
   },
   "outputs": [
    {
     "data": {
      "image/png": "[encoded data removed]",
      "text/plain": [
       "<matplotlib.figure.Figure at 0x7f1e36fc3630>"
      ]
     },
     "metadata": {},
     "output_type": "display_data"
    }
   ],
   "source": [
    "#crete the figures using collected data using f1 measure\n",
    "plt.figure(figsize=(15,6))\n",
    "tr_acc_f1, = plt.plot(plain_trainRatios,plain_tr_accs_f1,label=\"Training Accuracy F1\");\n",
    "test_accuracy_f1, = plt.plot(plain_trainRatios,plain_tst_accs_f1,label=\"Test Accuracy F1\");\n",
    "plt.legend(handles=[tr_acc_f1, test_accuracy_f1])\n",
    "plt.ylabel('Accuracy')\n",
    "plt.xlabel('Training Set Ratio')\n",
    "plt.show()\n"
   ]
  },
  {
   "cell_type": "markdown",
   "metadata": {
    "deletable": true,
    "editable": true
   },
   "source": [
    "#### Observation on Pipeline performance\n",
    "Above graphical outputs shows an expected behaviour while pipeline was tested under changing training and test data sets. As it can be seen, initially with only 10% training data and 90% test data, the training accuracy was very high due to overfitting. As we increase the size of training data while decreasing the size of test data, the training accuracy goes down from 87% to 70% while the test accuracy increased from 50% to 62% approximately. A similar behaviour was noticed with F1 measure values as described in the second graph above.\n",
    "\n",
    "This experiment was done without changing any further parameters just to monitor the behaviour of the pipeline and it performed as expected. Following further tasks were then performed to tune the hyper paramters for transformers and classifier."
   ]
  },
  {
   "cell_type": "markdown",
   "metadata": {
    "deletable": true,
    "editable": true
   },
   "source": [
    "## Task D - Parameter Grid / Tuning The Classifier\n",
    "\n",
    "Following task is about parameter tuning through ParamaterGridBuilder class from Machine Learning Library. Following values were provided for tuning purpose:\n",
    "Hash Vector size using for hashing transformer:  [1000,3000,10000,15000]\n",
    "Smoothing Factor for naive Bayes estimator: [0,0.2,0.4,0.6,0.8,1]\n",
    "\n",
    "The grid returns the best model calculated after running the classifier with given tuning paraaters. The training and test accuracies for the best were recorded as shown in the code below:"
   ]
  },
  {
   "cell_type": "code",
   "execution_count": 12,
   "metadata": {
    "collapsed": false,
    "deletable": true,
    "editable": true
   },
   "outputs": [
    {
     "name": "stdout",
     "output_type": "stream",
     "text": [
      "Train accuracy of best model from the gird :  0.9131647971426977\n",
      "Test accuracy of best model from the gird :  0.7822931785195936\n"
     ]
    }
   ],
   "source": [
    "#create the pramerter grid builder with parameters for hashing and naive bayes\n",
    "#we added different sizes to the hashing tf and different smoothing levels to the naive bayes\n",
    "#we have selected these parameters after few experiments \n",
    "import time;\n",
    "\n",
    "paramGrid = ParamGridBuilder() \\\n",
    "    .addGrid(hashingTF.numFeatures, [1000,3000,10000,15000]) \\\n",
    "    .addGrid(nb.smoothing, [0,0.2,0.4,0.6,0.8,1]) \\\n",
    "    .build()\n",
    "        \n",
    "trainValSpliter = TrainValidationSplit(estimator=pipeline, #our pipeline\n",
    "                               estimatorParamMaps=paramGrid, #parameter grid for grid search\n",
    "                               evaluator=evaluator, #our multiclass classification evaluator\n",
    "                               trainRatio=0.8) # we can change this ratio to change the training and validation set size\n",
    "\n",
    "# Run train validation split and choose the best set of parameters.\n",
    "tvModel = trainValSpliter.fit(training)\n",
    "\n",
    "# Make predictions on training documents to get final training accuracy \n",
    "prediction = tvModel.transform(training)\n",
    "trAcc = evaluator.evaluate(prediction)\n",
    "print(\"Train accuracy of best model from the gird : \",trAcc)\n",
    "\n",
    "# Make predictions on test documents. \n",
    "prediction = tvModel.transform(testing)\n",
    "testAcc =  evaluator.evaluate(prediction)\n",
    "print(\"Test accuracy of best model from the gird : \",testAcc)\n"
   ]
  },
  {
   "cell_type": "markdown",
   "metadata": {
    "deletable": true,
    "editable": true
   },
   "source": [
    "#### Grid parameters\n",
    "Following code was generated to find the validation accuracy of the classifier while changing the tuning parameters. The output of the code was recorded to identify the parameters that give best performance"
   ]
  },
  {
   "cell_type": "code",
   "execution_count": 14,
   "metadata": {
    "collapsed": false,
    "deletable": true,
    "editable": true
   },
   "outputs": [
    {
     "name": "stdout",
     "output_type": "stream",
     "text": [
      "\t Accuracy \t Naive Bayes Smoothing \t HashingTF Size\n",
      "0.5109366236679753 \t\t 0 \t\t 1000\n",
      "0.511497476163769 \t\t 0.2 \t\t 1000\n",
      "0.5117779024116658 \t\t 0.4 \t\t 1000\n",
      "0.5117779024116658 \t\t 0.6 \t\t 1000\n",
      "0.5117779024116658 \t\t 0.8 \t\t 1000\n",
      "0.5123387549074594 \t\t 1 \t\t 1000\n",
      "0.6472237801458216 \t\t 0 \t\t 3000\n",
      "0.6483454851374089 \t\t 0.2 \t\t 3000\n",
      "0.6475042063937184 \t\t 0.4 \t\t 3000\n",
      "0.6469433538979249 \t\t 0.6 \t\t 3000\n",
      "0.6463825014021313 \t\t 0.8 \t\t 3000\n",
      "0.6463825014021313 \t\t 1 \t\t 3000\n",
      "0.38895120583286596 \t\t 0 \t\t 10000\n",
      "0.7462142456533931 \t\t 0.2 \t\t 10000\n",
      "0.7453729669097028 \t\t 0.4 \t\t 10000\n",
      "0.7445316881660123 \t\t 0.6 \t\t 10000\n",
      "0.7459338194054963 \t\t 0.8 \t\t 10000\n",
      "0.7462142456533931 \t\t 1 \t\t 10000\n",
      "0.25294447560291644 \t\t 0 \t\t 15000\n",
      "0.7708917554683118 \t\t 0.2 \t\t 15000\n",
      "0.7689287717330342 \t\t 0.4 \t\t 15000\n",
      "0.7697700504767246 \t\t 0.6 \t\t 15000\n",
      "0.7675266404935502 \t\t 0.8 \t\t 15000\n",
      "0.7647223780145822 \t\t 1 \t\t 15000\n"
     ]
    }
   ],
   "source": [
    "#Grid Parameter Results from the model\n",
    "\n",
    "#this function create a array of items with 3 result values\n",
    "def GetPerformanceOfParams(parameterResultItems,outputList):\n",
    "    \n",
    "    #loop trough resutls list\n",
    "    for item in parameterResultItems:\n",
    "        #create an empty array to hold 3 elements\n",
    "        localItemList = [];\n",
    "        #first element is accuracy and we can get that from item itself\n",
    "        localItemList.append(item[0]);\n",
    "        #parameter values are in a dictionary and we get items from the dictionary to loop through it \n",
    "        #here we got only 2 parameters since we have set only 2 parameters in the grid\n",
    "        for key,value in item[1].items():\n",
    "            #add the parameter to local list\n",
    "            localItemList.append(value);\n",
    "        #create list of [accuracy,param1,param2] items\n",
    "        outputList.append(localItemList);\n",
    "        \n",
    "    return;\n",
    "\n",
    "#make a list out of results from the model. here we combine the accuracy from validationmetics and parameters from estimatorparam maps\n",
    "resultItems =  list(zip(tvModel.validationMetrics, tvModel.getEstimatorParamMaps()))\n",
    "\n",
    "#create an empty array to hold the cleand results to produce graphs\n",
    "outputList = [];\n",
    "\n",
    "#call the result extract method with the combined results list\n",
    "GetPerformanceOfParams(resultItems,outputList);\n",
    "\n",
    "#print the output results to check the values\n",
    "print(\"\\t Accuracy \\t Naive Bayes Smoothing \\t HashingTF Size\")\n",
    "for i in outputList:\n",
    "    print(\"{0} \\t\\t {1} \\t\\t {2}\".format(i[0],i[2],i[1]))\n",
    "    "
   ]
  },
  {
   "cell_type": "markdown",
   "metadata": {
    "deletable": true,
    "editable": true
   },
   "source": [
    "### OBSERVATIONS\n",
    "\n",
    "From the above output, it can be seen that the accuracy of the classifier goes up as we increase the hash vector size within the hashingTF transformer. Best value for hashing vector size was found to be between 10,000 and 15,000 with the maximum accuracy of 77% with hash vector size of 15,000. It was also noted that a bigger hash vector size takes a longer time for the classifier to process the given data. \n",
    "\n",
    "The smoothing parameter for naive Bayes classifier also had a noticable affect on the accuracy. Different smoothing values from 0 (no smoothing) to 1 were supplied to the grid. Values greater than 1 resulted as acuracy getting lower in our previous experiments to it was decided to limit the range between 0 and 1. The best value for smoothing parameter was found to be between 0.2 and 0.4, where the accuracy was found to be 75 - 77%. \n",
    "\n",
    "Using the best values identified in the experiment above, we created an updated Pipeline with hashing value 15000 and a smoothing factor of 0.2. Rest of the values for transformers and other paramaters were kept the same as previous to their default values. Following code defines a tuned classifier for the final test."
   ]
  },
  {
   "cell_type": "code",
   "execution_count": 15,
   "metadata": {
    "collapsed": true,
    "deletable": true,
    "editable": true
   },
   "outputs": [],
   "source": [
    "#Update the pipeline using best values\n",
    "\n",
    "#hashing transformer to crete hash out of words\n",
    "hashingTF = HashingTF(inputCol=remover.getOutputCol(), outputCol=\"features\", numFeatures = 15000)\n",
    "nb = NaiveBayes(smoothing=0.2, modelType=\"multinomial\")\n",
    "\n",
    "pipeline = Pipeline(stages=[tokenizer,remover, hashingTF, nb])"
   ]
  },
  {
   "cell_type": "markdown",
   "metadata": {
    "deletable": true,
    "editable": true
   },
   "source": [
    "### Experiment with  training and test size and their impact on time\n",
    "\n",
    "In order to identify the impact the size of training and test dataset with the final classifier, following experiment was performed where iteratively change the size of test and train data while recording the time taken for each run of the classifier."
   ]
  },
  {
   "cell_type": "code",
   "execution_count": 16,
   "metadata": {
    "collapsed": false,
    "deletable": true,
    "editable": true
   },
   "outputs": [
    {
     "name": "stdout",
     "output_type": "stream",
     "text": [
      "Ratio \t Training Size \t Test Size \t Training Acc. \t Training Time \t Test Acc. \t Test Time \t Total Time \n",
      "4.0\t8127\t\t 11859\t\t 95.1\t\t 1.85\t\t 74.61\t\t 4.66\t\t 9.82\n",
      "6.0\t11805\t\t 8181\t\t 93.04\t\t 2.38\t\t 76.62\t\t 3.61\t\t 10.52\n",
      "7.0\t14028\t\t 5958\t\t 92.75\t\t 2.96\t\t 77.04\t\t 2.94\t\t 11.13\n",
      "8.0\t16069\t\t 3917\t\t 91.95\t\t 3.18\t\t 77.58\t\t 2.3\t\t 11.3\n",
      "9.0\t17989\t\t 1997\t\t 91.44\t\t 3.41\t\t 78.62\t\t 1.82\t\t 11.47\n"
     ]
    }
   ],
   "source": [
    "#create an empty array to keep time results for each calculation\n",
    "trainingTimes = [];\n",
    "testTimes = [];\n",
    "trainingAccuracies = [];\n",
    "testAccuracies = [];\n",
    "totalTimes = [];\n",
    "trainingSizes = [];\n",
    "trainRatios = [4.0,6.0,7.0,8.0,9.0];\n",
    "\n",
    "#loop through list of numbers we defined as ratio for the train validation split method. in this method we devide our \n",
    "#training set further into training and validation sets. Then we do final test with our main test dataset.\n",
    "print(\"Ratio \\t Training Size \\t Test Size \\t Training Acc. \\t Training Time \\t Test Acc. \\t Test Time \\t Total Time \")\n",
    "\n",
    "for trainRatio in trainRatios:\n",
    "    #create training and test datasets from our main dataset.\n",
    "    [training,testing] = rows_DF.randomSplit([trainRatio,10-trainRatio])\n",
    "    training.cache();\n",
    "    testing.cache();\n",
    "    #get the start time for calculation\n",
    "    time1 = time.time();\n",
    "    \n",
    "    #train the classifier in pipeline\n",
    "    model = pipeline.fit(training)\n",
    "    \n",
    "    #get the time after training the model\n",
    "    time2 = time.time();\n",
    "    \n",
    "    # Make predictions on training documents to get final training accuracy \n",
    "    prediction = model.transform(training)\n",
    "    trAcc = evaluator.evaluate(prediction)\n",
    "    #get the time after prediction with training data\n",
    "    time3 = time.time();\n",
    "    \n",
    "    # Make predictions on test documents. \n",
    "    prediction = model.transform(testing)\n",
    "    testAcc =  evaluator.evaluate(prediction)\n",
    "    \n",
    "    #get the time at the end of the calculation\n",
    "    time4 = time.time();\n",
    "    \n",
    "    #calculating time differences\n",
    "    trTime = time2 - time1;\n",
    "    testTime = time4 - time3;\n",
    "    totalTime = time4 - time1;\n",
    "    trainingSize = training.count();\n",
    "    \n",
    "    #adding results to list to produce graphs\n",
    "    trainingTimes.append(trTime);\n",
    "    testTimes.append(testTime);\n",
    "    totalTimes.append(totalTime);\n",
    "    trainingAccuracies.append(trAcc);\n",
    "    trainingSizes.append(trainingSize);\n",
    "    testAccuracies.append(testAcc);\n",
    "    print(\"{0}\\t{1}\\t\\t {2}\\t\\t {3}\\t\\t {4}\\t\\t {5}\\t\\t {6}\\t\\t {7}\".format(trainRatio,trainingSize,\\\n",
    "        testing.count(),str(round(trAcc*100, 2)),str(round(trTime, 2)),str(round(testAcc * 100, 2)),str(round(testTime, 2)),str(round(totalTime, 2))))\n",
    "  \n",
    "    "
   ]
  },
  {
   "cell_type": "code",
   "execution_count": 17,
   "metadata": {
    "collapsed": false,
    "deletable": true,
    "editable": true
   },
   "outputs": [
    {
     "data": {
      "image/png": "[encoded data removed]",
      "text/plain": [
       "<matplotlib.figure.Figure at 0x7f1e36f30400>"
      ]
     },
     "metadata": {},
     "output_type": "display_data"
    }
   ],
   "source": [
    "#create figures of training and test accuracies\n",
    "plt.figure(figsize=(15,6))\n",
    "f_training_accracies, = plt.plot(trainRatios,trainingAccuracies,label=\"Training Accuracy\");\n",
    "f_testing_accracies, = plt.plot(trainRatios,testAccuracies,label=\"Testing Accuracy\");\n",
    "plt.legend(handles=[f_training_accracies,f_testing_accracies])\n",
    "plt.ylabel('Accuracy')\n",
    "plt.xlabel('Training Set Ratio')\n",
    "plt.show()"
   ]
  },
  {
   "cell_type": "code",
   "execution_count": 18,
   "metadata": {
    "collapsed": false,
    "deletable": true,
    "editable": true
   },
   "outputs": [
    {
     "data": {
      "image/png": "[encoded data removed]",
      "text/plain": [
       "<matplotlib.figure.Figure at 0x7f1e335b0e48>"
      ]
     },
     "metadata": {},
     "output_type": "display_data"
    }
   ],
   "source": [
    "#create figures of training and test times\n",
    "plt.figure(figsize=(15,6))\n",
    "f_training_time, = plt.plot(trainRatios,trainingTimes,label=\"Training Time\");\n",
    "f_test_time, = plt.plot(trainRatios,testTimes,label=\"Testing Time\");\n",
    "plt.legend(handles=[f_training_time,f_test_time])\n",
    "plt.ylabel('Time (Seconds)')\n",
    "plt.xlabel('Training Set Ratio')\n",
    "plt.show()"
   ]
  },
  {
   "cell_type": "markdown",
   "metadata": {
    "deletable": true,
    "editable": true
   },
   "source": [
    "#### OBERVATIONS \n",
    "In the above experiment, it was observed that with the increase in the size of the training data, more time was taken to train the classifier. The test accuracy also increased with the incrase in training data size as observed in the previous experiment. Going from an initial split of 40-60 (train/test) to 90-10 (train/test) and resulting graphs above re-affirm the ideas of overfitting and efficiency with respect to an increase in training data size.  "
   ]
  },
  {
   "cell_type": "markdown",
   "metadata": {
    "deletable": true,
    "editable": true
   },
   "source": [
    "### Experiment  with domain grouping \n",
    "\n",
    "Following extra exeperiment was performed to further explore the text classification process using the model described above. In this experiment, we decided to group together document from similar topics as shown in section 1. Five new classes (groups) were defined as Computing, Recreation, Politics, Science, Religion and Misc. We defined new labels for these classes and performed the experiment with the optimized values for the classifier as described above. "
   ]
  },
  {
   "cell_type": "code",
   "execution_count": 19,
   "metadata": {
    "collapsed": false,
    "deletable": true,
    "editable": true
   },
   "outputs": [],
   "source": [
    "#experiment with categorized new groups\n",
    "\n",
    "#create lists of categories\n",
    "listOfCategories = {'Computing':['comp.graphics', 'comp.os.ms-windows.misc', 'comp.sys.ibm.pc.hardware', 'comp.sys.mac.hardware', 'comp.windows.x'],\n",
    "                   'Recreation':['rec.autos', 'rec.motorcycles', 'rec.sport.baseball', 'rec.sport.hockey'],\n",
    "                   'Politics':['talk.politics.misc', 'talk.politics.guns', 'talk.politics.mideast'],\n",
    "                   'Science':['sci.crypt', 'sci.electronics', 'sci.med', 'sci.space'],\n",
    "                   'Religion':['talk.religion.misc', 'alt.atheism', 'soc.religion.christian'],\n",
    "                   'Misc':['misc.forsale']}; \n",
    "\n",
    "rows_DF_exp2 = None;\n",
    "\n",
    "number = 0;\n",
    "for i in listOfCategories:\n",
    "    for topic in listOfCategories[i]: \n",
    "        #make a dataframe for given topic and save it in a tempory variable\n",
    "        rows_temp_DF = make_dataFrame(prefix+topic, number)\n",
    "    \n",
    "        #main dataframe is not null except in the first case. we merge the tempory df to main df\n",
    "        if(rows_DF_exp2 is not None):\n",
    "            rows_DF_exp2 = rows_DF_exp2.union(rows_temp_DF)\n",
    "        else:\n",
    "            #first case main dataframe is null and just assgin tempory df to main df\n",
    "            rows_DF_exp2 = rows_temp_DF;\n",
    "            \n",
    "    number = number + 1;"
   ]
  },
  {
   "cell_type": "code",
   "execution_count": 20,
   "metadata": {
    "collapsed": false,
    "deletable": true,
    "editable": true
   },
   "outputs": [
    {
     "name": "stdout",
     "output_type": "stream",
     "text": [
      "+-----+-----+\n",
      "|label|count|\n",
      "+-----+-----+\n",
      "|    0|  614|\n",
      "|    1| 1008|\n",
      "|    2|  825|\n",
      "|    3|  828|\n",
      "|    4|  648|\n",
      "|    5|  203|\n",
      "+-----+-----+\n",
      "\n"
     ]
    }
   ],
   "source": [
    "#create a view called newsgroups in the dataframe\n",
    "rows_DF_exp2.createOrReplaceTempView(\"newsgroups\")\n",
    "\n",
    "#create training and test datasets from our main dataset.\n",
    "[train_DF_exp2,test_DF_exp2] = rows_DF_exp2.randomSplit([8.0,2.0])\n",
    "\n",
    "#format and count of the test dataset\n",
    "test_DF_exp2.groupBy('label').count().orderBy('label').show()"
   ]
  },
  {
   "cell_type": "code",
   "execution_count": 21,
   "metadata": {
    "collapsed": false,
    "deletable": true,
    "editable": true
   },
   "outputs": [
    {
     "name": "stdout",
     "output_type": "stream",
     "text": [
      "Time for training the model:  110.3638117313385\n",
      "training accuracy:  0.9095208070617906\n",
      "Time for Prediction with training data:  5.197361946105957\n",
      "testing accuracy:  0.8589432864760058\n",
      "Time for Prediction with Test data:  106.62399387359619\n"
     ]
    }
   ],
   "source": [
    "#assign train and test dataframes to new variables and add them to cache to speed up the experiment\n",
    "training_exp2 = train_DF_exp2 \n",
    "testing_exp2 = test_DF_exp2\n",
    "\n",
    "#cache to speed up the access\n",
    "training_exp2.cache();\n",
    "testing_exp2.cache();\n",
    "\n",
    "#mesaure the start time\n",
    "time1 = time.time();\n",
    "\n",
    "#train the model using pipeline\n",
    "model = pipeline.fit(training_exp2)\n",
    "#measure the time after training the model\n",
    "time2 = time.time(); \n",
    "print(\"Time for training the model: \", time2 - time1)\n",
    "\n",
    "# Make predictions on training documents to get final training accuracy \n",
    "prediction = model.transform(training_exp2)\n",
    "print(\"training accuracy: \", evaluator.evaluate(prediction))\n",
    "#mesaure the time after prediction with training data\n",
    "time3 = time.time(); \n",
    "print(\"Time for Prediction with training data: \", time3 - time2)\n",
    "\n",
    "# Make predictions on test documents. \n",
    "prediction = model.transform(testing_exp2)\n",
    "print(\"testing accuracy: \", evaluator.evaluate(prediction))\n",
    "#mesaure the time after prediction with test data\n",
    "time4 = time.time(); \n",
    "print(\"Time for Prediction with Test data: \", time4 - time3)"
   ]
  },
  {
   "cell_type": "markdown",
   "metadata": {
    "deletable": true,
    "editable": true
   },
   "source": [
    "#### OBSERVATIONS\n",
    "\n",
    "As shown in the results above, it was observed that the overall prediction accuracy of the classifier was much higher than what was seen with individual topic classification. Going from 20 classes to 6 classes as described above, the accuracy moved from 77% to 85%. This increase in accuracy can be explained by the idea that a smaller number of classes give a higher probability for each document to belong to a certain class i.e. with 20 classes the probablity of a document of belonging to a random class would be 1/20 = 0.05. Whereas, with 6 classes,  the probablity of a document to belong to a random class increases to 1/6 = 0.17. It can hence be concluded that with a decrease in the number of classes, and an increase in the training data size, the overall performance for balanaced data gets improved considerably. This observation is well in line with the literature mentioned earlier. "
   ]
  },
  {
   "cell_type": "markdown",
   "metadata": {
    "deletable": true,
    "editable": true
   },
   "source": [
    "### CONCLUSION\n",
    "\n",
    "In conclusion, The set of experiments above provided an insight into the application of naive Bayes algorithm for text classification purpose in a Big Data domain. The experiment involved creating a Pipeline object in Spark and identifying different stages for data transofrmation, evaluation and parameter tuning. It can be stated that tuned parameter defined after the optimization stages, was accurate and fast enough to be deployed as an online, large scale document classification system. As future experiment, there are plans to use a similar classifier to classify RSS feeds or other streaming documents according to user prefernces to offer a personalised information delivery system. "
   ]
  },
  {
   "cell_type": "markdown",
   "metadata": {
    "deletable": true,
    "editable": true
   },
   "source": [
    "### REFERENCES\n",
    "\n",
    "1. http://qwone.com/~jason/20Newsgroups/ (20 Newsgroup Dataset Official site)\n",
    "\n",
    "2. Lang, K., 1995, July. Newsweeder: Learning to filter netnews. In Proceedings of the 12th international conference on machine    learning (pp. 331-339).\n",
    "\n",
    "3. Venezky, R.L., 1970. The structure of English orthography (Vol. 82). Walter de Gruyter.\n",
    "\n",
    "4. Aggarwal, C.C. and Zhai, C. eds., 2012. Mining text data. Springer Science & Business Media.\n",
    "\n",
    "5. Zhang, H., 2004. The optimality of naive Bayes. AA, 1(2), p.3.\n",
    "\n",
    "6. https://github.com/brez (John Bresnik’s Github Respository) "
   ]
  }
 ],
 "metadata": {
  "kernelspec": {
   "display_name": "PySpark",
   "language": "python",
   "name": "pyspark"
  },
  "language_info": {
   "codemirror_mode": {
    "name": "ipython",
    "version": 3
   },
   "file_extension": ".py",
   "mimetype": "text/x-python",
   "name": "python",
   "nbconvert_exporter": "python",
   "pygments_lexer": "ipython3",
   "version": "3.5.2"
  }
 },
 "nbformat": 4,
 "nbformat_minor": 2
}
